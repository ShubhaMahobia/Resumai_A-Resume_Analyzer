{
 "cells": [
  {
   "cell_type": "code",
   "execution_count": 5,
   "metadata": {},
   "outputs": [],
   "source": [
    "import PyPDF2 as pdf"
   ]
  },
  {
   "cell_type": "code",
   "execution_count": 2,
   "metadata": {},
   "outputs": [],
   "source": [
    "file = open('../uploads/1742803691636175.pdf', 'rb')"
   ]
  },
  {
   "cell_type": "code",
   "execution_count": 3,
   "metadata": {},
   "outputs": [
    {
     "data": {
      "text/plain": [
       "<_io.BufferedReader name='../uploads/1742803691636175.pdf'>"
      ]
     },
     "execution_count": 3,
     "metadata": {},
     "output_type": "execute_result"
    }
   ],
   "source": [
    "file"
   ]
  },
  {
   "cell_type": "code",
   "execution_count": 7,
   "metadata": {},
   "outputs": [],
   "source": [
    "pdf_reader = pdf.PdfReader(file)"
   ]
  },
  {
   "cell_type": "code",
   "execution_count": 8,
   "metadata": {},
   "outputs": [
    {
     "data": {
      "text/plain": [
       "<PyPDF2._reader.PdfReader at 0x234d8fa3ce0>"
      ]
     },
     "execution_count": 8,
     "metadata": {},
     "output_type": "execute_result"
    }
   ],
   "source": [
    "pdf_reader"
   ]
  },
  {
   "cell_type": "code",
   "execution_count": 10,
   "metadata": {},
   "outputs": [
    {
     "data": {
      "text/plain": [
       "False"
      ]
     },
     "execution_count": 10,
     "metadata": {},
     "output_type": "execute_result"
    }
   ],
   "source": [
    "pdf_reader.is_encrypted"
   ]
  },
  {
   "cell_type": "code",
   "execution_count": 13,
   "metadata": {},
   "outputs": [
    {
     "data": {
      "text/plain": [
       "2"
      ]
     },
     "execution_count": 13,
     "metadata": {},
     "output_type": "execute_result"
    }
   ],
   "source": [
    "len(pdf_reader.pages)"
   ]
  },
  {
   "cell_type": "code",
   "execution_count": 15,
   "metadata": {},
   "outputs": [],
   "source": [
    "page1 = pdf_reader.pages[0]"
   ]
  },
  {
   "cell_type": "code",
   "execution_count": 17,
   "metadata": {},
   "outputs": [
    {
     "data": {
      "text/plain": [
       "'SHUBHAM MAHOBIA\\n+91 9479798601 - - mahobiashubham4@gmail.com - LinkedIn - GitHub\\nSUMMARY\\nFinal-year B.Tech student specializing in Artificial Intelligence at Sage University, Bhopal, with 18+ months of\\nexperience as a Software Engineer Intern at Mitt Arv. Proficient in full-stack development using React, Node.js,\\nMongoDB, MySQL, and Flutter , with hands-on experience in scalable cloud deployments on Azure . Skilled in\\nMachine Learning, Deep Learning, and Generative AI , with expertise in LLMs, NLP, RAG architectures,\\nTensorFlow, and FAISS . Developed high-performance APIs, reducing response time by 20% , and contributed\\nto AI-driven applications that improved model accuracy by 15% . Passionate about AI-powered solutions, cloud\\ncomputing, and product scalability .\\nEDUCATION\\nSAGE University Bhopal Bhopal, Madhya Pradesh, India\\nB.Tech Computer Science AI and Data Science - 8.52/10 2021 - 2025(Expected)\\nServite Convent School Hoshangabad, Madhya Pradesh, India\\nXIIth standard - 85% 2020 - 2021\\nTECHNICAL SKILLS\\nProgramming Languages: Python, Java, JavaScript, Dart, SQL, HTML, CSS\\nFrontend Technologies: ReactJS, Flutter, Tailwind CSS, Bootstrap\\nBackend & Databases: Node.js, MongoDB, MySQL, Firebase, Flask\\nArtificial Intelligence & ML: Machine Learning, Deep Learning, NLP, Transformers, TensorFlow, Keras, FAISS, RAG,\\nOpenAI, LLMs\\nDevOps: GitHub, Azure, Streamlit, CI/CD Pipelines\\nEXPERIENCE\\nSoftware Engineer Intern @Mitt Arv January 2023 - November-2024\\n*Developed and optimized the Flutter-based frontend , enhancing app responsiveness by 30%, leading to a 25% increase in\\nuser engagement .\\n*Implemented biometric authentication (fingerprint, face recognition) and an in-app feedback system , reducing user\\ndrop-offs by 15%.\\n*Engineered high-performance RESTful APIs using Node.js and MongoDB , reducing API response time by 20% and\\nimproving data exchange efficiency.\\n*Collaborated in Agile sprints , leading to a 10% improvement in project delivery speed .\\nPROJECTS\\n•Retrieval-Augmented Generation (RAG) Application\\n•Built a RAG system that achieved 85% response accuracy by leveraging FAISS-based vector search andOpenAI’s GPT\\nmodels . .\\n•Optimized retrieval efficiency by curating a domain-specific dataset, reducing irrelevant search results by 30%.\\n•Deployed using FastAPI & Streamlit , ensuring a seamless and interactive user experience.\\n•GitHub Link\\n•Nirog Bharat (01/2024 - 04/2024)\\n•Developed a full-stack telemedicine app inFlutter , reducing consultation wait times by 40%.\\n•Integrated Firebase authentication for secure user access, enhancing security compliance.\\n•Implemented end-to-end encrypted chat, video calls , ensuring 100% secure doctor-patient communication . .\\n•Designed a disease prediction model using Decision Trees , achieving 82% accuracy in symptom-based diagnoses.'"
      ]
     },
     "execution_count": 17,
     "metadata": {},
     "output_type": "execute_result"
    }
   ],
   "source": [
    "page1.extract_text()"
   ]
  },
  {
   "cell_type": "code",
   "execution_count": 18,
   "metadata": {},
   "outputs": [
    {
     "data": {
      "text/plain": [
       "'CERTIFICATION\\n•Excelled in IBM’s Python for Data Science, AI & Development course, integrating advanced data analysis and AI techniques,\\nwhich led to a 30% reduction in project completion time and improved data accuracy by 20%.”\\n•Completed Stanford Online’s ”Supervised Machine Learning: Regression and Classification” course, mastering regression\\nmodels, gradient descent, and overfitting prevention techniques, leading to a 15% improvement in model accuracy.'"
      ]
     },
     "execution_count": 18,
     "metadata": {},
     "output_type": "execute_result"
    }
   ],
   "source": [
    "page2 = pdf_reader.pages[1]\n",
    "page2.extract_text()"
   ]
  },
  {
   "cell_type": "code",
   "execution_count": null,
   "metadata": {},
   "outputs": [],
   "source": []
  }
 ],
 "metadata": {
  "kernelspec": {
   "display_name": "backend_venv",
   "language": "python",
   "name": "python3"
  },
  "language_info": {
   "codemirror_mode": {
    "name": "ipython",
    "version": 3
   },
   "file_extension": ".py",
   "mimetype": "text/x-python",
   "name": "python",
   "nbconvert_exporter": "python",
   "pygments_lexer": "ipython3",
   "version": "3.12.4"
  }
 },
 "nbformat": 4,
 "nbformat_minor": 2
}
